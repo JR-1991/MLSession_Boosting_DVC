{
 "cells": [
  {
   "cell_type": "markdown",
   "id": "d529ac0c-4174-4e72-9303-562d084c783d",
   "metadata": {
    "pycharm": {
     "name": "#%% md\n"
    }
   },
   "source": [
    "# Data Version Control and ZnTrack for ML\n",
    "#### ML-Session 27.4.2022, University of Stuttgart\n",
    "\n",
    "The following notebook will demonstrate how to implement a simple Gradient Boosting workflow using [ZnTrack](https://github.com/zincware/ZnTrack) and [DVC](https://dvc.org). These libraries/concepts faciliate a convenient way to set up workflows using Directed Acyclic Graphs that represent steps in the Machine Learning life cycle.\n",
    "\n",
    "The following steps will be implemented using an OOP-based approach:\n",
    "\n",
    "- Dataset loading and preparation\n",
    "- Model training\n",
    "- Model evaluation\n",
    "\n",
    "For the sake of demonstration, the following workflow is held simple on purpose yet DVC and ZnTrack are capable of far more complex workflows. See [this example](https://github.com/PythonFZ/SimTech_2022_04) for an advanced example."
   ]
  },
  {
   "cell_type": "code",
   "execution_count": 6,
   "id": "24dfacd9-826c-4b25-89cb-900f00a337d2",
   "metadata": {
    "pycharm": {
     "name": "#%%\n"
    }
   },
   "outputs": [],
   "source": [
    "from zntrack import config\n",
    "\n",
    "# Jupyter notebook name needs to be specified!\n",
    "config.nb_name = \"Boosting_Workflow_DVC.ipynb\""
   ]
  },
  {
   "cell_type": "code",
   "execution_count": 7,
   "id": "e8d86e79-7cbd-4eea-a081-635f26a4c8bd",
   "metadata": {
    "pycharm": {
     "name": "#%%\n"
    }
   },
   "outputs": [],
   "source": [
    "import numpy as np\n",
    "import pandas as pd\n",
    "import xgboost as xgb\n",
    "\n",
    "from sklearn.ensemble import GradientBoostingClassifier\n",
    "from sklearn.datasets import load_breast_cancer\n",
    "from sklearn.model_selection import train_test_split\n",
    "from sklearn.metrics import confusion_matrix, accuracy_score, f1_score, confusion_matrix\n",
    "\n",
    "from zntrack import Node, dvc, zn"
   ]
  },
  {
   "cell_type": "markdown",
   "id": "1e55e098-b527-4f27-abf7-7cb4d3c6d6ed",
   "metadata": {
    "pycharm": {
     "name": "#%% md\n"
    }
   },
   "source": [
    "### Load and prepare the dataset\n",
    "\n",
    "__Tasks__\n",
    "- Fetch breast cancer dataset from scikit-learn\n",
    "- Split input and target data into train and test data"
   ]
  },
  {
   "cell_type": "code",
   "execution_count": 8,
   "id": "d1766408-bad3-47fd-98e4-97893205f20a",
   "metadata": {
    "pycharm": {
     "name": "#%%\n"
    }
   },
   "outputs": [],
   "source": [
    "# zntrack: break\n",
    "class DatasetPreparation(Node):\n",
    "    \"\"\"Loads dataset from scikit-learn and splits into train/test\"\"\"\n",
    "    \n",
    "    # Parameters\n",
    "    seed: int = zn.params(1234)\n",
    "    split: float = zn.params(0.75)\n",
    "    \n",
    "    # Outputs\n",
    "    x_train: np.ndarray = zn.outs()\n",
    "    y_train: np.ndarray = zn.outs()\n",
    "    x_test: np.ndarray = zn.outs()\n",
    "    y_test: np.ndarray = zn.outs()\n",
    "    \n",
    "    def run(self):\n",
    "        \"\"\"The run method defines what the node process looks like\"\"\"\n",
    "        \n",
    "        # Get dataset\n",
    "        dataset = load_breast_cancer()\n",
    "        \n",
    "        # Extract everything\n",
    "        feature_names = dataset[\"feature_names\"]\n",
    "        X = dataset[\"data\"]\n",
    "        Y = dataset[\"target\"]\n",
    "        \n",
    "        # Split dataset and assign to outs\n",
    "        splitted = train_test_split(X, Y, train_size=self.split, random_state=self.seed)\n",
    "        self.x_train = splitted[0]\n",
    "        self.x_test = splitted[1]\n",
    "        self.y_train = splitted[2]\n",
    "        self.y_test = splitted[3]"
   ]
  },
  {
   "cell_type": "markdown",
   "id": "1ccc5b03-c64f-4e46-b3e1-32d07b5bd313",
   "metadata": {
    "pycharm": {
     "name": "#%% md\n"
    }
   },
   "source": [
    "### Model training\n",
    "\n",
    "__Tasks__\n",
    "- Initialize model using given parameters\n",
    "- Fit the model to the training dataset"
   ]
  },
  {
   "cell_type": "code",
   "execution_count": 9,
   "id": "c19dad9a-f182-4724-966c-820926f6a124",
   "metadata": {
    "pycharm": {
     "name": "#%%\n"
    }
   },
   "outputs": [],
   "source": [
    "# zntrack: break\n",
    "class GradientBoosting(Node):\n",
    "    \"\"\"Sets up the ML model and trains it using the data dependency object\"\"\"\n",
    "    \n",
    "    # Dependencies\n",
    "    data: DatasetPreparation = zn.deps(DatasetPreparation)\n",
    "    \n",
    "    # Parameters\n",
    "    learning_rate: float = zn.params()\n",
    "    max_depth: int = zn.params()\n",
    "    n_estimators: int = zn.params()\n",
    "\n",
    "    # Outputs\n",
    "    model: xgb.XGBClassifier = zn.outs()\n",
    "    \n",
    "    def run(self):\n",
    "        self.model = xgb.XGBClassifier(\n",
    "            learning_rate = self.learning_rate,\n",
    "            max_depth = self.max_depth,\n",
    "            n_estimators = self.n_estimators\n",
    "        )\n",
    "        \n",
    "        self.model.fit(self.data.x_train, self.data.y_train)"
   ]
  },
  {
   "cell_type": "markdown",
   "id": "3f0e2084-3c63-4576-9318-cc3366d80698",
   "metadata": {
    "pycharm": {
     "name": "#%% md\n"
    }
   },
   "source": [
    "### Model evaluation\n",
    "\n",
    "__Tasks__\n",
    "- Calculate accuracy and F1 score to determine performance"
   ]
  },
  {
   "cell_type": "code",
   "execution_count": 10,
   "id": "a1ceae74-2c53-4e94-b619-1d6fb1294c09",
   "metadata": {
    "pycharm": {
     "name": "#%%\n"
    }
   },
   "outputs": [],
   "source": [
    "# zntrack: break\n",
    "class ModelEvaluation(Node):\n",
    "    \"\"\"Tests the ML model and gathers performance metrics\"\"\"\n",
    "    \n",
    "    # Dependencies\n",
    "    data: DatasetPreparation = zn.deps(DatasetPreparation)\n",
    "    gb: GradientBoosting = zn.deps(GradientBoosting)\n",
    "    \n",
    "    # Metrics\n",
    "    acc: float = zn.metrics()\n",
    "    f1_score: float = zn.metrics()\n",
    "    \n",
    "    def run(self):\n",
    "        \n",
    "        # Get predictions on test\n",
    "        preds = self.gb.model.predict(self.data.x_test)\n",
    "        \n",
    "        # Derive metrics\n",
    "        self.acc = accuracy_score(self.data.y_test, preds)\n",
    "        self.f1_score = f1_score(self.data.y_test, preds)\n",
    "        "
   ]
  },
  {
   "cell_type": "markdown",
   "id": "0ee498e6-6d9d-45a4-b626-4e867ba155f7",
   "metadata": {
    "pycharm": {
     "name": "#%% md\n"
    }
   },
   "source": [
    "### Building the workflow\n",
    "\n",
    "Now that all classes have beenm set up, the DAG graph has to be written. ZnTrack takes care to preserve dependencies and any other in- and output that was specified within these classes. Ultimately, ZnTrack takes care of all necessary DVC operations that may otherwise have been carried out in a terminal.\n",
    "\n",
    "Optionally, all changes could be pushed onto a GitHub/GitLab repository, where one can make use of Actions to perform parameter studies. See `.github/workflows/cml.yaml` for the workflow. Use this workflow as a template for your own examples!"
   ]
  },
  {
   "cell_type": "code",
   "execution_count": 11,
   "id": "5075ac09-9d90-472e-88a8-686ced409e77",
   "metadata": {
    "pycharm": {
     "name": "#%%\n"
    }
   },
   "outputs": [
    {
     "name": "stdout",
     "output_type": "stream",
     "text": [
      "2022-04-27 00:47:09,620 (WARNING): Jupyter support is an experimental feature! Please save your notebook before running this command!\n",
      "Submit issues to https://github.com/zincware/ZnTrack.\n",
      "2022-04-27 00:47:11,515 (WARNING): Running DVC command: 'dvc run -n DatasetPreparation ...'\n",
      "2022-04-27 00:47:15,983 (WARNING): Running DVC command: 'dvc run -n GradientBoosting ...'\n",
      "2022-04-27 00:47:19,235 (WARNING): Running DVC command: 'dvc run -n ModelEvaluation ...'\n"
     ]
    }
   ],
   "source": [
    "# Write a DAG graph to gain DVC compatibility\n",
    "DatasetPreparation(seed=100, split=0.75).write_graph(run=True)\n",
    "GradientBoosting(learning_rate=0.1, max_depth=5, n_estimators=10).write_graph(run=True)\n",
    "ModelEvaluation().write_graph(run=True)"
   ]
  },
  {
   "cell_type": "code",
   "execution_count": 12,
   "id": "eadf165f-0cb3-413c-9607-038c9a387a33",
   "metadata": {
    "pycharm": {
     "name": "#%%\n"
    }
   },
   "outputs": [
    {
     "name": "stdout",
     "output_type": "stream",
     "text": [
      "                  +--------------------+           \n",
      "                  | DatasetPreparation |           \n",
      "                  +--------------------+           \n",
      "                  ****                ****         \n",
      "               ***                        ***      \n",
      "             **                              ***   \n",
      "+------------------+                            ** \n",
      "| GradientBoosting |                         ***   \n",
      "+------------------+                      ***      \n",
      "                  ****                ****         \n",
      "                      ***          ***             \n",
      "                         **      **                \n",
      "                    +-----------------+            \n",
      "                    | ModelEvaluation |            \n",
      "                    +-----------------+            \n",
      "\u001B[0m"
     ]
    }
   ],
   "source": [
    "# Visual representation of all steps in a DAG\n",
    "!dvc dag"
   ]
  },
  {
   "cell_type": "markdown",
   "id": "868a3b19-1e56-41e7-ba0f-7ca411ca75aa",
   "metadata": {
    "pycharm": {
     "name": "#%% md\n"
    }
   },
   "source": [
    "*Push to GitHub using:*\n",
    "```bash\n",
    "git commit -m \"Some Message\"\n",
    "git push\n",
    "```"
   ]
  }
 ],
 "metadata": {
  "kernelspec": {
   "display_name": "zntrack",
   "language": "python",
   "name": "zntrack"
  },
  "language_info": {
   "codemirror_mode": {
    "name": "ipython",
    "version": 3
   },
   "file_extension": ".py",
   "mimetype": "text/x-python",
   "name": "python",
   "nbconvert_exporter": "python",
   "pygments_lexer": "ipython3",
   "version": "3.9.12"
  }
 },
 "nbformat": 4,
 "nbformat_minor": 5
}